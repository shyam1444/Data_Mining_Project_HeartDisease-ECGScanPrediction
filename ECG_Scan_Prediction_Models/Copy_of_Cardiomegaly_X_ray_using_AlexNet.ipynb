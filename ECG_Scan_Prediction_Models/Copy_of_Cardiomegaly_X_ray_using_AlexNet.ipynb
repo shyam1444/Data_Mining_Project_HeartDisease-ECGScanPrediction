{
  "metadata": {
    "kernelspec": {
      "language": "python",
      "display_name": "Python 3",
      "name": "python3"
    },
    "language_info": {
      "pygments_lexer": "ipython3",
      "nbconvert_exporter": "python",
      "version": "3.6.4",
      "file_extension": ".py",
      "codemirror_mode": {
        "name": "ipython",
        "version": 3
      },
      "name": "python",
      "mimetype": "text/x-python"
    },
    "colab": {
      "provenance": []
    }
  },
  "nbformat_minor": 0,
  "nbformat": 4,
  "cells": [
    {
      "source": [
        "import os\n",
        "import sys\n",
        "from tempfile import NamedTemporaryFile\n",
        "from urllib.request import urlopen\n",
        "from urllib.parse import unquote, urlparse\n",
        "from urllib.error import HTTPError\n",
        "from zipfile import ZipFile\n",
        "import tarfile\n",
        "import shutil\n",
        "\n",
        "CHUNK_SIZE = 40960\n",
        "DATA_SOURCE_MAPPING = 'cardiomegaly-disease-prediction-using-cnn:https%3A%2F%2Fstorage.googleapis.com%2Fkaggle-data-sets%2F1837618%2F2999507%2Fbundle%2Farchive.zip%3FX-Goog-Algorithm%3DGOOG4-RSA-SHA256%26X-Goog-Credential%3Dgcp-kaggle-com%2540kaggle-161607.iam.gserviceaccount.com%252F20240501%252Fauto%252Fstorage%252Fgoog4_request%26X-Goog-Date%3D20240501T043917Z%26X-Goog-Expires%3D259200%26X-Goog-SignedHeaders%3Dhost%26X-Goog-Signature%3D45715351974b340fa7c6895ec835aae0141a4acb6038b633b7204474b618076f94de1bb5c1fabcead39aabda9b46d9b51f80e06789d6c2b2a69a0847481d07e61de234b155ee4981358adc99fe52c8580e3e0124a9b1ac7e20ec2c8d7479f4cf2b9f8bcd5ce0801d97720885c30b50587c1073945763919a3bb7d613231b022b494d50e26e035fc7fc8b2f13a4d1830710328fe46b42655934239db5dd8863c8940174b259efc3f48d219a86bbde8a337050150a44af5f6d9a2a8270fba36792270a0e9d90c155e94738fa0773d18ade3cd0605adaf1396f78e43a352fabf767492c986e413454dee00639f050fa38de4c3447560ee0647d7fb66e7277f9646c'\n",
        "\n",
        "KAGGLE_INPUT_PATH='/kaggle/input'\n",
        "KAGGLE_WORKING_PATH='/kaggle/working'\n",
        "KAGGLE_SYMLINK='kaggle'\n",
        "\n",
        "!umount /kaggle/input/ 2> /dev/null\n",
        "shutil.rmtree('/kaggle/input', ignore_errors=True)\n",
        "os.makedirs(KAGGLE_INPUT_PATH, 0o777, exist_ok=True)\n",
        "os.makedirs(KAGGLE_WORKING_PATH, 0o777, exist_ok=True)\n",
        "\n",
        "try:\n",
        "  os.symlink(KAGGLE_INPUT_PATH, os.path.join(\"..\", 'input'), target_is_directory=True)\n",
        "except FileExistsError:\n",
        "  pass\n",
        "try:\n",
        "  os.symlink(KAGGLE_WORKING_PATH, os.path.join(\"..\", 'working'), target_is_directory=True)\n",
        "except FileExistsError:\n",
        "  pass\n",
        "\n",
        "for data_source_mapping in DATA_SOURCE_MAPPING.split(','):\n",
        "    directory, download_url_encoded = data_source_mapping.split(':')\n",
        "    download_url = unquote(download_url_encoded)\n",
        "    filename = urlparse(download_url).path\n",
        "    destination_path = os.path.join(KAGGLE_INPUT_PATH, directory)\n",
        "    try:\n",
        "        with urlopen(download_url) as fileres, NamedTemporaryFile() as tfile:\n",
        "            total_length = fileres.headers['content-length']\n",
        "            print(f'Downloading {directory}, {total_length} bytes compressed')\n",
        "            dl = 0\n",
        "            data = fileres.read(CHUNK_SIZE)\n",
        "            while len(data) > 0:\n",
        "                dl += len(data)\n",
        "                tfile.write(data)\n",
        "                done = int(50 * dl / int(total_length))\n",
        "                sys.stdout.write(f\"\\r[{'=' * done}{' ' * (50-done)}] {dl} bytes downloaded\")\n",
        "                sys.stdout.flush()\n",
        "                data = fileres.read(CHUNK_SIZE)\n",
        "            if filename.endswith('.zip'):\n",
        "              with ZipFile(tfile) as zfile:\n",
        "                zfile.extractall(destination_path)\n",
        "            else:\n",
        "              with tarfile.open(tfile.name) as tarfile:\n",
        "                tarfile.extractall(destination_path)\n",
        "            print(f'\\nDownloaded and uncompressed: {directory}')\n",
        "    except HTTPError as e:\n",
        "        print(f'Failed to load (likely expired) {download_url} to path {destination_path}')\n",
        "        continue\n",
        "    except OSError as e:\n",
        "        print(f'Failed to load {download_url} to path {destination_path}')\n",
        "        continue\n",
        "\n",
        "print('Data source import complete.')\n"
      ],
      "metadata": {
        "id": "ncpXZDDUcz3N"
      },
      "cell_type": "code",
      "outputs": [],
      "execution_count": null
    },
    {
      "cell_type": "code",
      "source": [
        "import numpy as np\n",
        "import pandas as pd\n",
        "import argparse\n",
        "import matplotlib.pyplot as plt\n",
        "import cv2\n",
        "from tensorflow.keras.models import Sequential\n",
        "from tensorflow.keras.layers import Dense, Dropout, Flatten\n",
        "from tensorflow.keras.layers import Conv2D\n",
        "from tensorflow.keras.optimizers import Adam\n",
        "from tensorflow.keras.layers import MaxPooling2D\n",
        "from tensorflow.keras.preprocessing.image import ImageDataGenerator\n",
        "import os\n",
        "from tensorflow.keras.preprocessing.image import ImageDataGenerator\n",
        "from tensorflow.keras.optimizers import Adam\n",
        "from tensorflow.keras.preprocessing.image import img_to_array\n",
        "from tensorflow.keras.utils import to_categorical, plot_model\n",
        "from tensorflow.keras.layers import BatchNormalization, Conv2D, MaxPooling2D, Activation, Flatten, Dropout, Dense\n",
        "from tensorflow.keras import backend as K\n",
        "from sklearn.model_selection import train_test_split"
      ],
      "metadata": {
        "_uuid": "8f2839f25d086af736a60e9eeb907d3b93b6e0e5",
        "_cell_guid": "b1076dfc-b9ad-4769-8c92-a6c4dae69d19",
        "execution": {
          "iopub.status.busy": "2022-01-12T17:22:23.440493Z",
          "iopub.execute_input": "2022-01-12T17:22:23.44106Z",
          "iopub.status.idle": "2022-01-12T17:22:29.748921Z",
          "shell.execute_reply.started": "2022-01-12T17:22:23.440961Z",
          "shell.execute_reply": "2022-01-12T17:22:29.748085Z"
        },
        "trusted": true,
        "id": "C_xryHZYcz3R"
      },
      "execution_count": null,
      "outputs": []
    },
    {
      "cell_type": "code",
      "source": [
        "os.environ['TF_CPP_MIN_LOG_LEVEL'] = '2'\n",
        "# Define data generators\n",
        "train_dir = '../input/cardiomegaly-disease-prediction-using-cnn/train/train'\n",
        "val_dir = '../input/cardiomegaly-disease-prediction-using-cnn/test/test'\n",
        "batch_size = 100\n",
        "num_epoch = 50"
      ],
      "metadata": {
        "execution": {
          "iopub.status.busy": "2022-01-12T17:22:33.70182Z",
          "iopub.execute_input": "2022-01-12T17:22:33.702064Z",
          "iopub.status.idle": "2022-01-12T17:22:33.708868Z",
          "shell.execute_reply.started": "2022-01-12T17:22:33.702037Z",
          "shell.execute_reply": "2022-01-12T17:22:33.708173Z"
        },
        "trusted": true,
        "id": "5zzmz5bzcz3T"
      },
      "execution_count": null,
      "outputs": []
    },
    {
      "cell_type": "code",
      "source": [
        "train_datagen = ImageDataGenerator(rescale=1./255, rotation_range=20,\n",
        "    width_shift_range=0.2,\n",
        "    height_shift_range=0.2,\n",
        "    horizontal_flip=True,)\n",
        "val_datagen = ImageDataGenerator(rescale=1./255, rotation_range=20,\n",
        "    width_shift_range=0.2,\n",
        "    height_shift_range=0.2,\n",
        "    horizontal_flip=True,)"
      ],
      "metadata": {
        "execution": {
          "iopub.status.busy": "2022-01-12T17:22:34.693128Z",
          "iopub.execute_input": "2022-01-12T17:22:34.693408Z",
          "iopub.status.idle": "2022-01-12T17:22:34.699251Z",
          "shell.execute_reply.started": "2022-01-12T17:22:34.693359Z",
          "shell.execute_reply": "2022-01-12T17:22:34.698071Z"
        },
        "trusted": true,
        "id": "ITvti77Xcz3T"
      },
      "execution_count": null,
      "outputs": []
    },
    {
      "cell_type": "code",
      "source": [
        "train_generator = train_datagen.flow_from_directory(\n",
        "        train_dir,\n",
        "        target_size=(128,128),\n",
        "        batch_size=batch_size,\n",
        "        color_mode=\"grayscale\",\n",
        "        class_mode='binary')"
      ],
      "metadata": {
        "execution": {
          "iopub.status.busy": "2022-01-12T17:22:35.094418Z",
          "iopub.execute_input": "2022-01-12T17:22:35.09515Z",
          "iopub.status.idle": "2022-01-12T17:22:37.035679Z",
          "shell.execute_reply.started": "2022-01-12T17:22:35.095112Z",
          "shell.execute_reply": "2022-01-12T17:22:37.034939Z"
        },
        "trusted": true,
        "id": "7LMxHgu5cz3T"
      },
      "execution_count": null,
      "outputs": []
    },
    {
      "cell_type": "code",
      "source": [
        "validation_generator = val_datagen.flow_from_directory(\n",
        "        val_dir,\n",
        "        target_size=(128,128),\n",
        "        batch_size=batch_size,\n",
        "        color_mode=\"grayscale\",\n",
        "        class_mode='binary')"
      ],
      "metadata": {
        "execution": {
          "iopub.status.busy": "2022-01-12T17:22:37.037488Z",
          "iopub.execute_input": "2022-01-12T17:22:37.037971Z",
          "iopub.status.idle": "2022-01-12T17:22:37.252696Z",
          "shell.execute_reply.started": "2022-01-12T17:22:37.037933Z",
          "shell.execute_reply": "2022-01-12T17:22:37.251945Z"
        },
        "trusted": true,
        "id": "aAbTRXL-cz3U"
      },
      "execution_count": null,
      "outputs": []
    },
    {
      "cell_type": "code",
      "source": [
        "num_train = 424\n",
        "num_val = 106"
      ],
      "metadata": {
        "execution": {
          "iopub.status.busy": "2022-01-12T17:22:37.255316Z",
          "iopub.execute_input": "2022-01-12T17:22:37.255559Z",
          "iopub.status.idle": "2022-01-12T17:22:37.260397Z",
          "shell.execute_reply.started": "2022-01-12T17:22:37.255528Z",
          "shell.execute_reply": "2022-01-12T17:22:37.258176Z"
        },
        "trusted": true,
        "id": "EIQgKXqFcz3U"
      },
      "execution_count": null,
      "outputs": []
    },
    {
      "cell_type": "code",
      "source": [
        "model = Sequential()\n",
        "\n",
        "# 1st Convolutional Layer\n",
        "model.add(Conv2D(32, (3,3), padding=\"same\", input_shape=(128,128,1)))\n",
        "model.add(Activation('relu'))\n",
        "# Max-Pooling\n",
        "model.add(MaxPooling2D(pool_size = (2, 2),strides = (2, 2), padding = 'valid'))\n",
        "# Batch Normalisation\n",
        "model.add(BatchNormalization())\n",
        "\n",
        "# 2nd Convolutional Layer\n",
        "model.add(Conv2D(filters = 256, kernel_size = (11, 11),strides = (1, 1), padding = 'valid'))\n",
        "model.add(Activation('relu'))\n",
        "# Max-Pooling\n",
        "model.add(MaxPooling2D(pool_size = (2, 2), strides = (2, 2),padding = 'valid'))\n",
        "# Batch Normalisation\n",
        "model.add(BatchNormalization())\n",
        "\n",
        "# 3rd Convolutional Layer\n",
        "model.add(Conv2D(filters = 384, kernel_size = (3, 3),strides = (1, 1), padding = 'valid'))\n",
        "model.add(Activation('relu'))\n",
        "# Batch Normalisation\n",
        "model.add(BatchNormalization())\n",
        "\n",
        "# 4th Convolutional Layer\n",
        "model.add(Conv2D(filters = 384, kernel_size = (3, 3),strides = (1, 1), padding = 'valid'))\n",
        "model.add(Activation('relu'))\n",
        "# Batch Normalisation\n",
        "model.add(BatchNormalization())\n",
        "\n",
        "# 5th Convolutional Layer\n",
        "model.add(Conv2D(filters = 256, kernel_size = (3, 3),strides = (1, 1), padding = 'valid'))\n",
        "model.add(Activation('relu'))\n",
        "# Max-Pooling\n",
        "model.add(MaxPooling2D(pool_size = (2, 2), strides = (2, 2),padding = 'valid'))\n",
        "# Batch Normalisation\n",
        "model.add(BatchNormalization())\n",
        "\n",
        "# Flattening\n",
        "model.add(Flatten())\n",
        "\n",
        "# 1st Dense Layer\n",
        "model.add(Dense(4096, input_shape = (128*128*1, )))\n",
        "model.add(Activation('relu'))\n",
        "# Add Dropout to prevent overfitting\n",
        "model.add(Dropout(0.4))\n",
        "# Batch Normalisation\n",
        "model.add(BatchNormalization())\n",
        "\n",
        "# 2nd Dense Layer\n",
        "model.add(Dense(4096))\n",
        "model.add(Activation('relu'))\n",
        "# Add Dropout\n",
        "model.add(Dropout(0.4))\n",
        "# Batch Normalisation\n",
        "model.add(BatchNormalization())\n",
        "\n",
        "# Output Softmax Layer\n",
        "model.add(Dense(1))\n",
        "model.add(Activation('softmax'))\n",
        "model.summary()"
      ],
      "metadata": {
        "execution": {
          "iopub.status.busy": "2022-01-12T17:22:37.262784Z",
          "iopub.execute_input": "2022-01-12T17:22:37.263104Z",
          "iopub.status.idle": "2022-01-12T17:22:39.772725Z",
          "shell.execute_reply.started": "2022-01-12T17:22:37.263069Z",
          "shell.execute_reply": "2022-01-12T17:22:39.772026Z"
        },
        "trusted": true,
        "id": "VCtfF3Eicz3V"
      },
      "execution_count": null,
      "outputs": []
    },
    {
      "cell_type": "code",
      "source": [
        "model.compile(loss='binary_crossentropy',optimizer=Adam(learning_rate=0.001),metrics=['accuracy'])"
      ],
      "metadata": {
        "execution": {
          "iopub.status.busy": "2022-01-12T17:22:39.773798Z",
          "iopub.execute_input": "2022-01-12T17:22:39.774041Z",
          "iopub.status.idle": "2022-01-12T17:22:39.790303Z",
          "shell.execute_reply.started": "2022-01-12T17:22:39.774007Z",
          "shell.execute_reply": "2022-01-12T17:22:39.789618Z"
        },
        "trusted": true,
        "id": "6eD0tD09cz3W"
      },
      "execution_count": null,
      "outputs": []
    },
    {
      "cell_type": "code",
      "source": [
        "history = model.fit(\n",
        "            train_generator,\n",
        "            steps_per_epoch=num_train // batch_size,\n",
        "            epochs=num_epoch,\n",
        "            validation_data=validation_generator,\n",
        "            verbose = 1\n",
        "            )"
      ],
      "metadata": {
        "execution": {
          "iopub.status.busy": "2022-01-12T17:22:39.791637Z",
          "iopub.execute_input": "2022-01-12T17:22:39.7919Z",
          "iopub.status.idle": "2022-01-12T17:26:53.939356Z",
          "shell.execute_reply.started": "2022-01-12T17:22:39.791865Z",
          "shell.execute_reply": "2022-01-12T17:26:53.938625Z"
        },
        "trusted": true,
        "id": "AP4vMwxzcz3X"
      },
      "execution_count": null,
      "outputs": []
    },
    {
      "cell_type": "code",
      "source": [
        "losses = pd.DataFrame(model.history.history)\n",
        "losses[['loss','val_loss']].plot()"
      ],
      "metadata": {
        "execution": {
          "iopub.status.busy": "2022-01-12T17:27:11.384725Z",
          "iopub.execute_input": "2022-01-12T17:27:11.384992Z",
          "iopub.status.idle": "2022-01-12T17:27:11.623082Z",
          "shell.execute_reply.started": "2022-01-12T17:27:11.384961Z",
          "shell.execute_reply": "2022-01-12T17:27:11.62243Z"
        },
        "trusted": true,
        "id": "eC6Qsilkcz3X"
      },
      "execution_count": null,
      "outputs": []
    },
    {
      "cell_type": "code",
      "source": [],
      "metadata": {
        "id": "cce7YAgWcz3Y"
      },
      "execution_count": null,
      "outputs": []
    }
  ]
}