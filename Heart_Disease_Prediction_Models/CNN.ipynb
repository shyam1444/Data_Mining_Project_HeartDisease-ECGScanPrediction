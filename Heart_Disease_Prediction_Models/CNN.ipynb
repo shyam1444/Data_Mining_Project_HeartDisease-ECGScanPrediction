{
 "cells": [
  {
   "cell_type": "markdown",
   "id": "5eba74f4",
   "metadata": {
    "papermill": {
     "duration": 0.006278,
     "end_time": "2023-07-15T07:33:38.919553",
     "exception": false,
     "start_time": "2023-07-15T07:33:38.913275",
     "status": "completed"
    },
    "tags": []
   },
   "source": [
    "Importing the Libraries"
   ]
  },
  {
   "cell_type": "code",
   "execution_count": 1,
   "id": "055f343c",
   "metadata": {
    "execution": {
     "iopub.execute_input": "2023-07-15T07:33:38.932875Z",
     "iopub.status.busy": "2023-07-15T07:33:38.932235Z",
     "iopub.status.idle": "2023-07-15T07:33:46.808345Z",
     "shell.execute_reply": "2023-07-15T07:33:46.807282Z"
    },
    "papermill": {
     "duration": 7.885808,
     "end_time": "2023-07-15T07:33:46.811214",
     "exception": false,
     "start_time": "2023-07-15T07:33:38.925406",
     "status": "completed"
    },
    "tags": []
   },
   "outputs": [
    {
     "name": "stderr",
     "output_type": "stream",
     "text": [
      "/opt/conda/lib/python3.10/site-packages/scipy/__init__.py:146: UserWarning: A NumPy version >=1.16.5 and <1.23.0 is required for this version of SciPy (detected version 1.23.5\n",
      "  warnings.warn(f\"A NumPy version >={np_minversion} and <{np_maxversion}\"\n",
      "/opt/conda/lib/python3.10/site-packages/tensorflow_io/python/ops/__init__.py:98: UserWarning: unable to load libtensorflow_io_plugins.so: unable to open file: libtensorflow_io_plugins.so, from paths: ['/opt/conda/lib/python3.10/site-packages/tensorflow_io/python/ops/libtensorflow_io_plugins.so']\n",
      "caused by: ['/opt/conda/lib/python3.10/site-packages/tensorflow_io/python/ops/libtensorflow_io_plugins.so: undefined symbol: _ZN3tsl6StatusC1EN10tensorflow5error4CodeESt17basic_string_viewIcSt11char_traitsIcEENS_14SourceLocationE']\n",
      "  warnings.warn(f\"unable to load libtensorflow_io_plugins.so: {e}\")\n",
      "/opt/conda/lib/python3.10/site-packages/tensorflow_io/python/ops/__init__.py:104: UserWarning: file system plugins are not loaded: unable to open file: libtensorflow_io.so, from paths: ['/opt/conda/lib/python3.10/site-packages/tensorflow_io/python/ops/libtensorflow_io.so']\n",
      "caused by: ['/opt/conda/lib/python3.10/site-packages/tensorflow_io/python/ops/libtensorflow_io.so: undefined symbol: _ZTVN10tensorflow13GcsFileSystemE']\n",
      "  warnings.warn(f\"file system plugins are not loaded: {e}\")\n"
     ]
    }
   ],
   "source": [
    "import numpy as np\n",
    "import tensorflow as tf\n",
    "import matplotlib.pyplot as plt\n",
    "from keras.preprocessing.image import ImageDataGenerator\n",
    "from keras.preprocessing import image"
   ]
  },
  {
   "cell_type": "markdown",
   "id": "4a1bd678",
   "metadata": {
    "papermill": {
     "duration": 0.005775,
     "end_time": "2023-07-15T07:33:46.823147",
     "exception": false,
     "start_time": "2023-07-15T07:33:46.817372",
     "status": "completed"
    },
    "tags": []
   },
   "source": [
    "Preprocessing the Training Image"
   ]
  },
  {
   "cell_type": "code",
   "execution_count": 2,
   "id": "f5de5fcb",
   "metadata": {
    "execution": {
     "iopub.execute_input": "2023-07-15T07:33:46.836430Z",
     "iopub.status.busy": "2023-07-15T07:33:46.835839Z",
     "iopub.status.idle": "2023-07-15T07:33:49.095582Z",
     "shell.execute_reply": "2023-07-15T07:33:49.094630Z"
    },
    "papermill": {
     "duration": 2.269037,
     "end_time": "2023-07-15T07:33:49.098070",
     "exception": false,
     "start_time": "2023-07-15T07:33:46.829033",
     "status": "completed"
    },
    "tags": []
   },
   "outputs": [
    {
     "name": "stdout",
     "output_type": "stream",
     "text": [
      "Found 4438 images belonging to 2 classes.\n"
     ]
    }
   ],
   "source": [
    "train_generator = ImageDataGenerator(\n",
    "    rescale=1./255,\n",
    "    horizontal_flip=True\n",
    ")\n",
    "\n",
    "train_set = train_generator.flow_from_directory(\n",
    "    directory=\"/kaggle/input/cardiomegaly-disease-prediction-using-cnn/train/train\",\n",
    "    target_size=(64,64),\n",
    "    batch_size=64,\n",
    "    color_mode=\"grayscale\",\n",
    "    class_mode=\"categorical\"\n",
    ")"
   ]
  },
  {
   "cell_type": "code",
   "execution_count": 3,
   "id": "c444284d",
   "metadata": {
    "execution": {
     "iopub.execute_input": "2023-07-15T07:33:49.111822Z",
     "iopub.status.busy": "2023-07-15T07:33:49.111526Z",
     "iopub.status.idle": "2023-07-15T07:33:49.116598Z",
     "shell.execute_reply": "2023-07-15T07:33:49.115528Z"
    },
    "papermill": {
     "duration": 0.015438,
     "end_time": "2023-07-15T07:33:49.119779",
     "exception": false,
     "start_time": "2023-07-15T07:33:49.104341",
     "status": "completed"
    },
    "tags": []
   },
   "outputs": [
    {
     "name": "stdout",
     "output_type": "stream",
     "text": [
      "{'false': 0, 'true': 1}\n"
     ]
    }
   ],
   "source": [
    "print(train_set.class_indices)"
   ]
  },
  {
   "cell_type": "markdown",
   "id": "f14df5cb",
   "metadata": {
    "papermill": {
     "duration": 0.005859,
     "end_time": "2023-07-15T07:33:49.131603",
     "exception": false,
     "start_time": "2023-07-15T07:33:49.125744",
     "status": "completed"
    },
    "tags": []
   },
   "source": [
    "Processing the Test Images"
   ]
  },
  {
   "cell_type": "code",
   "execution_count": 4,
   "id": "6ef9328b",
   "metadata": {
    "execution": {
     "iopub.execute_input": "2023-07-15T07:33:49.144858Z",
     "iopub.status.busy": "2023-07-15T07:33:49.144592Z",
     "iopub.status.idle": "2023-07-15T07:33:49.233201Z",
     "shell.execute_reply": "2023-07-15T07:33:49.232356Z"
    },
    "papermill": {
     "duration": 0.097504,
     "end_time": "2023-07-15T07:33:49.235270",
     "exception": false,
     "start_time": "2023-07-15T07:33:49.137766",
     "status": "completed"
    },
    "tags": []
   },
   "outputs": [
    {
     "name": "stdout",
     "output_type": "stream",
     "text": [
      "Found 1114 images belonging to 2 classes.\n"
     ]
    }
   ],
   "source": [
    "test_generator = ImageDataGenerator(\n",
    "    rescale=1./255\n",
    ")\n",
    "\n",
    "test_set = test_generator.flow_from_directory(\n",
    "    directory=\"/kaggle/input/cardiomegaly-disease-prediction-using-cnn/test/test\",\n",
    "    batch_size=64,\n",
    "    target_size=(64,64),\n",
    "    color_mode=\"grayscale\",\n",
    "    class_mode=\"categorical\"\n",
    "    \n",
    ")"
   ]
  },
  {
   "cell_type": "markdown",
   "id": "8a8b4937",
   "metadata": {
    "papermill": {
     "duration": 0.006008,
     "end_time": "2023-07-15T07:33:49.247659",
     "exception": false,
     "start_time": "2023-07-15T07:33:49.241651",
     "status": "completed"
    },
    "tags": []
   },
   "source": [
    "Building the Convolution Neural Network"
   ]
  },
  {
   "cell_type": "code",
   "execution_count": 5,
   "id": "34a84f43",
   "metadata": {
    "execution": {
     "iopub.execute_input": "2023-07-15T07:33:49.261764Z",
     "iopub.status.busy": "2023-07-15T07:33:49.261033Z",
     "iopub.status.idle": "2023-07-15T07:33:52.052263Z",
     "shell.execute_reply": "2023-07-15T07:33:52.051269Z"
    },
    "papermill": {
     "duration": 2.801078,
     "end_time": "2023-07-15T07:33:52.054815",
     "exception": false,
     "start_time": "2023-07-15T07:33:49.253737",
     "status": "completed"
    },
    "tags": []
   },
   "outputs": [],
   "source": [
    "cnn_model = tf.keras.models.Sequential()"
   ]
  },
  {
   "cell_type": "markdown",
   "id": "73e31289",
   "metadata": {
    "papermill": {
     "duration": 0.00647,
     "end_time": "2023-07-15T07:33:52.068107",
     "exception": false,
     "start_time": "2023-07-15T07:33:52.061637",
     "status": "completed"
    },
    "tags": []
   },
   "source": [
    "Adding the first Convolution and Pooling layer"
   ]
  },
  {
   "cell_type": "code",
   "execution_count": 6,
   "id": "5c0fb04f",
   "metadata": {
    "execution": {
     "iopub.execute_input": "2023-07-15T07:33:52.082039Z",
     "iopub.status.busy": "2023-07-15T07:33:52.081734Z",
     "iopub.status.idle": "2023-07-15T07:33:52.143991Z",
     "shell.execute_reply": "2023-07-15T07:33:52.143113Z"
    },
    "papermill": {
     "duration": 0.071861,
     "end_time": "2023-07-15T07:33:52.146104",
     "exception": false,
     "start_time": "2023-07-15T07:33:52.074243",
     "status": "completed"
    },
    "tags": []
   },
   "outputs": [],
   "source": [
    "cnn_model.add(tf.keras.layers.Conv2D(filters=32,kernel_size=(3,3),activation=\"relu\",input_shape = (64,64,1)))\n",
    "cnn_model.add(tf.keras.layers.MaxPool2D())\n"
   ]
  },
  {
   "cell_type": "markdown",
   "id": "03e78e50",
   "metadata": {
    "papermill": {
     "duration": 0.006205,
     "end_time": "2023-07-15T07:33:52.158495",
     "exception": false,
     "start_time": "2023-07-15T07:33:52.152290",
     "status": "completed"
    },
    "tags": []
   },
   "source": [
    "Adding the second Convolution and Pooling layer"
   ]
  },
  {
   "cell_type": "code",
   "execution_count": 7,
   "id": "5fbb0378",
   "metadata": {
    "execution": {
     "iopub.execute_input": "2023-07-15T07:33:52.172227Z",
     "iopub.status.busy": "2023-07-15T07:33:52.171925Z",
     "iopub.status.idle": "2023-07-15T07:33:52.195786Z",
     "shell.execute_reply": "2023-07-15T07:33:52.194778Z"
    },
    "papermill": {
     "duration": 0.033515,
     "end_time": "2023-07-15T07:33:52.198111",
     "exception": false,
     "start_time": "2023-07-15T07:33:52.164596",
     "status": "completed"
    },
    "tags": []
   },
   "outputs": [],
   "source": [
    "cnn_model.add(tf.keras.layers.Conv2D(filters=16,kernel_size=(3,3),activation=\"relu\"))\n",
    "cnn_model.add(tf.keras.layers.MaxPool2D())\n"
   ]
  },
  {
   "cell_type": "markdown",
   "id": "1fa34254",
   "metadata": {
    "papermill": {
     "duration": 0.005885,
     "end_time": "2023-07-15T07:33:52.210359",
     "exception": false,
     "start_time": "2023-07-15T07:33:52.204474",
     "status": "completed"
    },
    "tags": []
   },
   "source": [
    "Adding the third Convolution and Pooling Layer"
   ]
  },
  {
   "cell_type": "code",
   "execution_count": 8,
   "id": "4d4802e8",
   "metadata": {
    "execution": {
     "iopub.execute_input": "2023-07-15T07:33:52.224314Z",
     "iopub.status.busy": "2023-07-15T07:33:52.223586Z",
     "iopub.status.idle": "2023-07-15T07:33:52.245141Z",
     "shell.execute_reply": "2023-07-15T07:33:52.244308Z"
    },
    "papermill": {
     "duration": 0.030592,
     "end_time": "2023-07-15T07:33:52.247239",
     "exception": false,
     "start_time": "2023-07-15T07:33:52.216647",
     "status": "completed"
    },
    "tags": []
   },
   "outputs": [],
   "source": [
    "cnn_model.add(tf.keras.layers.Conv2D(filters=12,kernel_size=(3,3),activation=\"relu\"))\n",
    "cnn_model.add(tf.keras.layers.MaxPool2D())\n"
   ]
  },
  {
   "cell_type": "code",
   "execution_count": 9,
   "id": "95382c3f",
   "metadata": {
    "execution": {
     "iopub.execute_input": "2023-07-15T07:33:52.261295Z",
     "iopub.status.busy": "2023-07-15T07:33:52.260768Z",
     "iopub.status.idle": "2023-07-15T07:33:52.270896Z",
     "shell.execute_reply": "2023-07-15T07:33:52.270103Z"
    },
    "papermill": {
     "duration": 0.019249,
     "end_time": "2023-07-15T07:33:52.272810",
     "exception": false,
     "start_time": "2023-07-15T07:33:52.253561",
     "status": "completed"
    },
    "tags": []
   },
   "outputs": [],
   "source": [
    "cnn_model.add(tf.keras.layers.Flatten())"
   ]
  },
  {
   "cell_type": "code",
   "execution_count": 10,
   "id": "0055522d",
   "metadata": {
    "execution": {
     "iopub.execute_input": "2023-07-15T07:33:52.287096Z",
     "iopub.status.busy": "2023-07-15T07:33:52.286367Z",
     "iopub.status.idle": "2023-07-15T07:33:52.330435Z",
     "shell.execute_reply": "2023-07-15T07:33:52.329552Z"
    },
    "papermill": {
     "duration": 0.053214,
     "end_time": "2023-07-15T07:33:52.332476",
     "exception": false,
     "start_time": "2023-07-15T07:33:52.279262",
     "status": "completed"
    },
    "tags": []
   },
   "outputs": [],
   "source": [
    "cnn_model.add(tf.keras.layers.Dense(units = 144,activation=\"relu\"))\n",
    "cnn_model.add(tf.keras.layers.Dense(units = 78,activation=\"relu\"))\n",
    "cnn_model.add(tf.keras.layers.Dense(units = 2,activation=\"softmax\"))\n"
   ]
  },
  {
   "cell_type": "code",
   "execution_count": 11,
   "id": "0a5dc03f",
   "metadata": {
    "execution": {
     "iopub.execute_input": "2023-07-15T07:33:52.346358Z",
     "iopub.status.busy": "2023-07-15T07:33:52.345840Z",
     "iopub.status.idle": "2023-07-15T07:33:52.361431Z",
     "shell.execute_reply": "2023-07-15T07:33:52.360596Z"
    },
    "papermill": {
     "duration": 0.024808,
     "end_time": "2023-07-15T07:33:52.363628",
     "exception": false,
     "start_time": "2023-07-15T07:33:52.338820",
     "status": "completed"
    },
    "tags": []
   },
   "outputs": [],
   "source": [
    "cnn_model.compile(loss = \"binary_crossentropy\",optimizer=tf.keras.optimizers.legacy.Adam(learning_rate=0.0001),metrics=[\"accuracy\"])"
   ]
  },
  {
   "cell_type": "code",
   "execution_count": 12,
   "id": "0cd1a22e",
   "metadata": {
    "execution": {
     "iopub.execute_input": "2023-07-15T07:33:52.377115Z",
     "iopub.status.busy": "2023-07-15T07:33:52.376838Z",
     "iopub.status.idle": "2023-07-15T07:33:52.402589Z",
     "shell.execute_reply": "2023-07-15T07:33:52.401909Z"
    },
    "papermill": {
     "duration": 0.06048,
     "end_time": "2023-07-15T07:33:52.430229",
     "exception": false,
     "start_time": "2023-07-15T07:33:52.369749",
     "status": "completed"
    },
    "tags": []
   },
   "outputs": [
    {
     "name": "stdout",
     "output_type": "stream",
     "text": [
      "Model: \"sequential\"\n",
      "_________________________________________________________________\n",
      " Layer (type)                Output Shape              Param #   \n",
      "=================================================================\n",
      " conv2d (Conv2D)             (None, 62, 62, 32)        320       \n",
      "                                                                 \n",
      " max_pooling2d (MaxPooling2D  (None, 31, 31, 32)       0         \n",
      " )                                                               \n",
      "                                                                 \n",
      " conv2d_1 (Conv2D)           (None, 29, 29, 16)        4624      \n",
      "                                                                 \n",
      " max_pooling2d_1 (MaxPooling  (None, 14, 14, 16)       0         \n",
      " 2D)                                                             \n",
      "                                                                 \n",
      " conv2d_2 (Conv2D)           (None, 12, 12, 12)        1740      \n",
      "                                                                 \n",
      " max_pooling2d_2 (MaxPooling  (None, 6, 6, 12)         0         \n",
      " 2D)                                                             \n",
      "                                                                 \n",
      " flatten (Flatten)           (None, 432)               0         \n",
      "                                                                 \n",
      " dense (Dense)               (None, 144)               62352     \n",
      "                                                                 \n",
      " dense_1 (Dense)             (None, 78)                11310     \n",
      "                                                                 \n",
      " dense_2 (Dense)             (None, 2)                 158       \n",
      "                                                                 \n",
      "=================================================================\n",
      "Total params: 80,504\n",
      "Trainable params: 80,504\n",
      "Non-trainable params: 0\n",
      "_________________________________________________________________\n"
     ]
    }
   ],
   "source": [
    "cnn_model.summary()\n"
   ]
  },
  {
   "cell_type": "code",
   "execution_count": 13,
   "id": "58764f15",
   "metadata": {
    "execution": {
     "iopub.execute_input": "2023-07-15T07:33:52.448259Z",
     "iopub.status.busy": "2023-07-15T07:33:52.447971Z",
     "iopub.status.idle": "2023-07-15T07:40:40.956480Z",
     "shell.execute_reply": "2023-07-15T07:40:40.955350Z"
    },
    "papermill": {
     "duration": 408.520188,
     "end_time": "2023-07-15T07:40:40.959002",
     "exception": false,
     "start_time": "2023-07-15T07:33:52.438814",
     "status": "completed"
    },
    "tags": []
   },
   "outputs": [
    {
     "name": "stdout",
     "output_type": "stream",
     "text": [
      "Epoch 1/50\n",
      "70/70 [==============================] - 27s 295ms/step - loss: 0.6908 - accuracy: 0.5392 - val_loss: 0.6872 - val_accuracy: 0.5422\n",
      "Epoch 2/50\n",
      "70/70 [==============================] - 8s 112ms/step - loss: 0.6856 - accuracy: 0.5791 - val_loss: 0.6804 - val_accuracy: 0.5700\n",
      "Epoch 3/50\n",
      "70/70 [==============================] - 8s 110ms/step - loss: 0.6750 - accuracy: 0.5933 - val_loss: 0.6604 - val_accuracy: 0.6436\n",
      "Epoch 4/50\n",
      "70/70 [==============================] - 6s 89ms/step - loss: 0.6548 - accuracy: 0.6244 - val_loss: 0.6344 - val_accuracy: 0.6652\n",
      "Epoch 5/50\n",
      "70/70 [==============================] - 6s 92ms/step - loss: 0.6418 - accuracy: 0.6246 - val_loss: 0.6191 - val_accuracy: 0.6517\n",
      "Epoch 6/50\n",
      "70/70 [==============================] - 6s 90ms/step - loss: 0.6343 - accuracy: 0.6372 - val_loss: 0.6130 - val_accuracy: 0.6598\n",
      "Epoch 7/50\n",
      "70/70 [==============================] - 7s 96ms/step - loss: 0.6314 - accuracy: 0.6395 - val_loss: 0.6186 - val_accuracy: 0.6373\n",
      "Epoch 8/50\n",
      "70/70 [==============================] - 6s 93ms/step - loss: 0.6283 - accuracy: 0.6438 - val_loss: 0.6093 - val_accuracy: 0.6724\n",
      "Epoch 9/50\n",
      "70/70 [==============================] - 7s 98ms/step - loss: 0.6228 - accuracy: 0.6507 - val_loss: 0.6057 - val_accuracy: 0.6741\n",
      "Epoch 10/50\n",
      "70/70 [==============================] - 6s 90ms/step - loss: 0.6192 - accuracy: 0.6537 - val_loss: 0.6040 - val_accuracy: 0.6634\n",
      "Epoch 11/50\n",
      "70/70 [==============================] - 6s 89ms/step - loss: 0.6152 - accuracy: 0.6575 - val_loss: 0.5969 - val_accuracy: 0.6688\n",
      "Epoch 12/50\n",
      "70/70 [==============================] - 6s 88ms/step - loss: 0.6205 - accuracy: 0.6573 - val_loss: 0.5972 - val_accuracy: 0.6894\n",
      "Epoch 13/50\n",
      "70/70 [==============================] - 7s 100ms/step - loss: 0.6110 - accuracy: 0.6584 - val_loss: 0.5905 - val_accuracy: 0.6894\n",
      "Epoch 14/50\n",
      "70/70 [==============================] - 6s 92ms/step - loss: 0.6038 - accuracy: 0.6667 - val_loss: 0.5853 - val_accuracy: 0.6867\n",
      "Epoch 15/50\n",
      "70/70 [==============================] - 6s 92ms/step - loss: 0.6016 - accuracy: 0.6794 - val_loss: 0.5825 - val_accuracy: 0.6921\n",
      "Epoch 16/50\n",
      "70/70 [==============================] - 7s 94ms/step - loss: 0.5983 - accuracy: 0.6789 - val_loss: 0.5775 - val_accuracy: 0.6975\n",
      "Epoch 17/50\n",
      "70/70 [==============================] - 6s 91ms/step - loss: 0.5887 - accuracy: 0.6832 - val_loss: 0.5846 - val_accuracy: 0.6831\n",
      "Epoch 18/50\n",
      "70/70 [==============================] - 6s 90ms/step - loss: 0.5868 - accuracy: 0.6861 - val_loss: 0.5707 - val_accuracy: 0.7118\n",
      "Epoch 19/50\n",
      "70/70 [==============================] - 6s 87ms/step - loss: 0.5848 - accuracy: 0.6839 - val_loss: 0.5730 - val_accuracy: 0.6993\n",
      "Epoch 20/50\n",
      "70/70 [==============================] - 6s 90ms/step - loss: 0.5785 - accuracy: 0.6965 - val_loss: 0.5760 - val_accuracy: 0.6921\n",
      "Epoch 21/50\n",
      "70/70 [==============================] - 7s 98ms/step - loss: 0.5717 - accuracy: 0.7026 - val_loss: 0.5693 - val_accuracy: 0.7056\n",
      "Epoch 22/50\n",
      "70/70 [==============================] - 7s 94ms/step - loss: 0.5737 - accuracy: 0.6999 - val_loss: 0.5637 - val_accuracy: 0.7181\n",
      "Epoch 23/50\n",
      "70/70 [==============================] - 8s 119ms/step - loss: 0.5667 - accuracy: 0.7041 - val_loss: 0.5720 - val_accuracy: 0.7235\n",
      "Epoch 24/50\n",
      "70/70 [==============================] - 7s 99ms/step - loss: 0.5650 - accuracy: 0.7059 - val_loss: 0.5587 - val_accuracy: 0.7217\n",
      "Epoch 25/50\n",
      "70/70 [==============================] - 6s 89ms/step - loss: 0.5643 - accuracy: 0.7087 - val_loss: 0.5565 - val_accuracy: 0.7253\n",
      "Epoch 26/50\n",
      "70/70 [==============================] - 7s 95ms/step - loss: 0.5624 - accuracy: 0.7136 - val_loss: 0.5543 - val_accuracy: 0.7226\n",
      "Epoch 27/50\n",
      "70/70 [==============================] - 6s 91ms/step - loss: 0.5555 - accuracy: 0.7170 - val_loss: 0.5550 - val_accuracy: 0.7289\n",
      "Epoch 28/50\n",
      "70/70 [==============================] - 7s 101ms/step - loss: 0.5558 - accuracy: 0.7188 - val_loss: 0.5574 - val_accuracy: 0.7316\n",
      "Epoch 29/50\n",
      "70/70 [==============================] - 7s 94ms/step - loss: 0.5521 - accuracy: 0.7186 - val_loss: 0.5560 - val_accuracy: 0.7361\n",
      "Epoch 30/50\n",
      "70/70 [==============================] - 6s 91ms/step - loss: 0.5464 - accuracy: 0.7267 - val_loss: 0.5537 - val_accuracy: 0.7298\n",
      "Epoch 31/50\n",
      "70/70 [==============================] - 7s 103ms/step - loss: 0.5455 - accuracy: 0.7165 - val_loss: 0.5478 - val_accuracy: 0.7280\n",
      "Epoch 32/50\n",
      "70/70 [==============================] - 9s 132ms/step - loss: 0.5438 - accuracy: 0.7271 - val_loss: 0.5502 - val_accuracy: 0.7253\n",
      "Epoch 33/50\n",
      "70/70 [==============================] - 8s 119ms/step - loss: 0.5400 - accuracy: 0.7265 - val_loss: 0.5471 - val_accuracy: 0.7325\n",
      "Epoch 34/50\n",
      "70/70 [==============================] - 8s 110ms/step - loss: 0.5365 - accuracy: 0.7253 - val_loss: 0.5518 - val_accuracy: 0.7199\n",
      "Epoch 35/50\n",
      "70/70 [==============================] - 7s 107ms/step - loss: 0.5370 - accuracy: 0.7267 - val_loss: 0.5419 - val_accuracy: 0.7289\n",
      "Epoch 36/50\n",
      "70/70 [==============================] - 6s 88ms/step - loss: 0.5363 - accuracy: 0.7310 - val_loss: 0.5483 - val_accuracy: 0.7271\n",
      "Epoch 37/50\n",
      "70/70 [==============================] - 7s 93ms/step - loss: 0.5294 - accuracy: 0.7334 - val_loss: 0.5413 - val_accuracy: 0.7343\n",
      "Epoch 38/50\n",
      "70/70 [==============================] - 7s 94ms/step - loss: 0.5249 - accuracy: 0.7400 - val_loss: 0.5391 - val_accuracy: 0.7370\n",
      "Epoch 39/50\n",
      "70/70 [==============================] - 7s 97ms/step - loss: 0.5259 - accuracy: 0.7332 - val_loss: 0.5432 - val_accuracy: 0.7325\n",
      "Epoch 40/50\n",
      "70/70 [==============================] - 7s 94ms/step - loss: 0.5280 - accuracy: 0.7325 - val_loss: 0.5487 - val_accuracy: 0.7262\n",
      "Epoch 41/50\n",
      "70/70 [==============================] - 6s 91ms/step - loss: 0.5192 - accuracy: 0.7366 - val_loss: 0.5406 - val_accuracy: 0.7325\n",
      "Epoch 42/50\n",
      "70/70 [==============================] - 7s 94ms/step - loss: 0.5208 - accuracy: 0.7406 - val_loss: 0.5395 - val_accuracy: 0.7361\n",
      "Epoch 43/50\n",
      "70/70 [==============================] - 6s 90ms/step - loss: 0.5171 - accuracy: 0.7382 - val_loss: 0.5362 - val_accuracy: 0.7442\n",
      "Epoch 44/50\n",
      "70/70 [==============================] - 6s 90ms/step - loss: 0.5158 - accuracy: 0.7384 - val_loss: 0.5365 - val_accuracy: 0.7325\n",
      "Epoch 45/50\n",
      "70/70 [==============================] - 6s 91ms/step - loss: 0.5151 - accuracy: 0.7395 - val_loss: 0.5370 - val_accuracy: 0.7442\n",
      "Epoch 46/50\n",
      "70/70 [==============================] - 7s 96ms/step - loss: 0.5091 - accuracy: 0.7454 - val_loss: 0.5369 - val_accuracy: 0.7397\n",
      "Epoch 47/50\n",
      "70/70 [==============================] - 6s 90ms/step - loss: 0.5094 - accuracy: 0.7519 - val_loss: 0.5310 - val_accuracy: 0.7478\n",
      "Epoch 48/50\n",
      "70/70 [==============================] - 6s 92ms/step - loss: 0.5095 - accuracy: 0.7483 - val_loss: 0.5373 - val_accuracy: 0.7415\n",
      "Epoch 49/50\n",
      "70/70 [==============================] - 6s 89ms/step - loss: 0.5059 - accuracy: 0.7494 - val_loss: 0.5456 - val_accuracy: 0.7415\n",
      "Epoch 50/50\n",
      "70/70 [==============================] - 7s 97ms/step - loss: 0.5014 - accuracy: 0.7569 - val_loss: 0.5346 - val_accuracy: 0.7334\n"
     ]
    }
   ],
   "source": [
    "history = cnn_model.fit(x = train_set,validation_data=test_set,epochs=50)"
   ]
  },
  {
   "cell_type": "code",
   "execution_count": 14,
   "id": "1fe82db9",
   "metadata": {
    "execution": {
     "iopub.execute_input": "2023-07-15T07:40:41.521312Z",
     "iopub.status.busy": "2023-07-15T07:40:41.520270Z",
     "iopub.status.idle": "2023-07-15T07:40:41.831921Z",
     "shell.execute_reply": "2023-07-15T07:40:41.831011Z"
    },
    "papermill": {
     "duration": 0.599048,
     "end_time": "2023-07-15T07:40:41.834293",
     "exception": false,
     "start_time": "2023-07-15T07:40:41.235245",
     "status": "completed"
    },
    "tags": []
   },
   "outputs": [
    {
     "data": {
      "image/png": "[encoded data removed]",
      "text/plain": [
       "<Figure size 640x480 with 1 Axes>"
      ]
     },
     "metadata": {},
     "output_type": "display_data"
    }
   ],
   "source": [
    "plt.plot(history.history[\"loss\"],color = \"red\")\n",
    "plt.plot(history.history[\"val_loss\"],color = \"green\")\n",
    "plt.title(\"Model Loss\")\n",
    "plt.legend([\"loss\",\"val_loss\"])\n",
    "plt.show()"
   ]
  },
  {
   "cell_type": "code",
   "execution_count": 15,
   "id": "9644ca8c",
   "metadata": {
    "execution": {
     "iopub.execute_input": "2023-07-15T07:40:42.390044Z",
     "iopub.status.busy": "2023-07-15T07:40:42.389667Z",
     "iopub.status.idle": "2023-07-15T07:40:42.656980Z",
     "shell.execute_reply": "2023-07-15T07:40:42.655946Z"
    },
    "papermill": {
     "duration": 0.549331,
     "end_time": "2023-07-15T07:40:42.659104",
     "exception": false,
     "start_time": "2023-07-15T07:40:42.109773",
     "status": "completed"
    },
    "tags": []
   },
   "outputs": [
    {
     "data": {
      "image/png": "[encoded data removed]",
      "text/plain": [
       "<Figure size 640x480 with 1 Axes>"
      ]
     },
     "metadata": {},
     "output_type": "display_data"
    }
   ],
   "source": [
    "plt.plot(history.history[\"accuracy\"],color = \"red\")\n",
    "plt.plot(history.history[\"val_accuracy\"],color = \"green\")\n",
    "plt.title(\"Model accuracy\")\n",
    "plt.legend([\"accuracy\",\"val_accuracy\"])\n",
    "plt.show()"
   ]
  },
  {
   "cell_type": "code",
   "execution_count": 16,
   "id": "c1e332ba",
   "metadata": {
    "execution": {
     "iopub.execute_input": "2023-07-15T07:40:43.213739Z",
     "iopub.status.busy": "2023-07-15T07:40:43.213387Z",
     "iopub.status.idle": "2023-07-15T07:40:43.218661Z",
     "shell.execute_reply": "2023-07-15T07:40:43.217737Z"
    },
    "papermill": {
     "duration": 0.286062,
     "end_time": "2023-07-15T07:40:43.221449",
     "exception": false,
     "start_time": "2023-07-15T07:40:42.935387",
     "status": "completed"
    },
    "tags": []
   },
   "outputs": [
    {
     "name": "stdout",
     "output_type": "stream",
     "text": [
      "{'false': 0, 'true': 1}\n"
     ]
    }
   ],
   "source": [
    "print(test_set.class_indices)"
   ]
  }
 ],
 "metadata": {
  "kernelspec": {
   "display_name": "Python 3",
   "language": "python",
   "name": "python3"
  },
  "language_info": {
   "codemirror_mode": {
    "name": "ipython",
    "version": 3
   },
   "file_extension": ".py",
   "mimetype": "text/x-python",
   "name": "python",
   "nbconvert_exporter": "python",
   "pygments_lexer": "ipython3",
   "version": "3.10.12"
  },
  "papermill": {
   "default_parameters": {},
   "duration": 436.910164,
   "end_time": "2023-07-15T07:40:46.030956",
   "environment_variables": {},
   "exception": null,
   "input_path": "__notebook__.ipynb",
   "output_path": "__notebook__.ipynb",
   "parameters": {},
   "start_time": "2023-07-15T07:33:29.120792",
   "version": "2.4.0"
  }
 },
 "nbformat": 4,
 "nbformat_minor": 5
}
